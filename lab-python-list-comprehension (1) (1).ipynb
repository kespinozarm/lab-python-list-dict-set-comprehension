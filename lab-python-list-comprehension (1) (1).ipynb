{
 "cells": [
  {
   "cell_type": "markdown",
   "id": "25d7736c-ba17-4aff-b6bb-66eba20fbf4e",
   "metadata": {},
   "source": [
    "# Lab | List, Dict and Set Comprehension"
   ]
  },
  {
   "cell_type": "markdown",
   "id": "7dd3cbde-675a-4b81-92c3-f728846dbe06",
   "metadata": {},
   "source": [
    "## Exercise: Managing Customer Orders Optimized with Comprehension"
   ]
  },
  {
   "cell_type": "markdown",
   "id": "5d500160-2fb7-4777-b5e4-09d45ebaf328",
   "metadata": {},
   "source": [
    "In the previous exercise, you developed a program to manage customer orders and inventory. Now, let's take it a step further and incorporate comprehension into your code.\n",
    "\n",
    "Follow the steps below to complete the exercise:\n",
    "\n",
    "1. Review your code from the previous exercise and identify areas where you can apply comprehension to simplify and streamline your code. \n",
    "\n",
    "    - *Hint: Apply it to initialize inventory, updating the inventory and printing the updated inventory.*\n",
    "    \n",
    "    - For example, in initializing the inventory, we could have:\n",
    "    \n",
    "        ```python\n",
    "        def initialize_inventory(products):\n",
    "            inventory = {product: int(input(f\"Enter the quantity of {product}s available: \")) for product in products}\n",
    "            return inventory\n",
    "\n",
    "        ```\n",
    "<br>\n",
    "    \n",
    "    \n",
    "2. Modify the function get_customer_orders so it prompts the user to enter the number of customer orders and gathers the product names using a loop and user input. Use comprehension.\n",
    "\n",
    "3. Add a new function to calculate the total price of the customer order. For each product in customer_orders, prompt the user to enter the price of that product. Use comprehension to calculate the total price. Note: assume that the user can only have 1 unit of each product.\n",
    "\n",
    "4. Modify the update_inventory function to remove the product from the inventory if its quantity becomes zero after fulfilling the customer orders. Use comprehension to filter out the products with a quantity of zero from the inventory.\n",
    "\n",
    "5. Print the total price of the customer order.\n",
    "\n",
    "Your code should produce output similar to the following:\n",
    "\n",
    "```python\n",
    "Enter the quantity of t-shirts available:  5\n",
    "Enter the quantity of mugs available:  4\n",
    "Enter the quantity of hats available:  3\n",
    "Enter the quantity of books available:  2\n",
    "Enter the quantity of keychains available:  1\n",
    "Enter the number of customer orders:  2\n",
    "Enter the name of a product that a customer wants to order:  hat\n",
    "Enter the name of a product that a customer wants to order:  keychain\n",
    "\n",
    "Order Statistics:\n",
    "Total Products Ordered: 2\n",
    "Percentage of Unique Products Ordered: 40.0\n",
    "\n",
    "Updated Inventory:\n",
    "t-shirt: 5\n",
    "mug: 4\n",
    "hat: 2\n",
    "book: 2\n",
    "Enter the price of keychain:  5\n",
    "Enter the price of hat:  10\n",
    "Total Price: 15.0\n",
    "\n",
    "```\n"
   ]
  },
  {
   "cell_type": "code",
   "execution_count": 12,
   "id": "9591a1ba-669f-40f3-8b32-ed8610c36d2c",
   "metadata": {},
   "outputs": [],
   "source": [
    "products = [\"t-shirt\", \"mug\", \"hat\", \"book\", \"keychain\"]"
   ]
  },
  {
   "cell_type": "code",
   "execution_count": 14,
   "id": "c48aa292-cffd-41f8-a63e-74e824d16739",
   "metadata": {},
   "outputs": [],
   "source": [
    "def initialize_inventory(products):\n",
    "    inventory = {product: int(input(f\"Enter the quantity of {product}s available: \")) for product in products}\n",
    "    return initialize_inventory"
   ]
  },
  {
   "cell_type": "code",
   "execution_count": 16,
   "id": "b975aad8-08db-46df-bc88-82dbff57247f",
   "metadata": {},
   "outputs": [
    {
     "name": "stdin",
     "output_type": "stream",
     "text": [
      "Enter the quantity of t-shirts available:  100\n",
      "Enter the quantity of mugs available:  100\n",
      "Enter the quantity of hats available:  100\n",
      "Enter the quantity of books available:  100\n",
      "Enter the quantity of keychains available:  1000\n"
     ]
    }
   ],
   "source": [
    "inventory= initialize_inventory(products)"
   ]
  },
  {
   "cell_type": "code",
   "execution_count": 18,
   "id": "c84c8841-9374-4186-aae5-d770d4ae2c4e",
   "metadata": {},
   "outputs": [
    {
     "data": {
      "text/plain": [
       "<function __main__.initialize_inventory(products)>"
      ]
     },
     "execution_count": 18,
     "metadata": {},
     "output_type": "execute_result"
    }
   ],
   "source": [
    "inventory"
   ]
  },
  {
   "cell_type": "code",
   "execution_count": 20,
   "id": "9093f863-e51b-4987-818b-18957f043ae4",
   "metadata": {},
   "outputs": [],
   "source": [
    "products = [\"t-shirt\", \"mug\", \"hat\", \"book\", \"keychain\"]\n",
    "def get_customer_orders():\n",
    "    customer_orders = []\n",
    "    order = input(f\"What 3 products do you want to order? {products} :\").split(',')\n",
    "#c. Ask the user if they want to add another product (yes/no).  \n",
    "#d. Continue the loop until the user does not want to add another product.\n",
    "    more_products = input(\"do you want to add another product? Yes/no: \")\n",
    "    while more_products == \"no\":\n",
    "        break\n",
    "    if more_products == \"yes\":\n",
    "        order = input(f\"What products do you want to order? {products} :\").split(',')\n",
    "    print(\"The order is:\", customer_orders)  \n",
    "    return customer_ordersinitialize_inventory(products)"
   ]
  },
  {
   "cell_type": "code",
   "execution_count": 22,
   "id": "f18eb0b4-92dc-4e0b-8892-97d584004d2c",
   "metadata": {},
   "outputs": [],
   "source": [
    "def get_customer_orders():\n",
    "    customer_orders = []\n",
    "    order = input(f\"What 3 products do you want to order? {products} :\").split(',')\n",
    "#c. Ask the user if they want to add another product (yes/no).  \n",
    "#d. Continue the loop until the user does not want to add another product.\n",
    "    more_products = input(\"do you want to add another product? Yes/no: \")\n",
    "    while more_products == \"no\":\n",
    "        break\n",
    "    if more_products == \"yes\":\n",
    "        order = input(f\"What products do you want to order? {products} :\").split(',')\n",
    "    print(\"The order is:\", customer_orders)  \n",
    "    return customer_orders"
   ]
  },
  {
   "cell_type": "code",
   "execution_count": 24,
   "id": "16f834a3-13a8-448b-affa-c1a453266c02",
   "metadata": {},
   "outputs": [],
   "source": [
    "customers_orders = []"
   ]
  },
  {
   "cell_type": "code",
   "execution_count": 10,
   "id": "b0f711da-3345-4232-8432-613f2618c070",
   "metadata": {
    "scrolled": true
   },
   "outputs": [
    {
     "ename": "NameError",
     "evalue": "name 'products' is not defined",
     "output_type": "error",
     "traceback": [
      "\u001b[0;31m---------------------------------------------------------------------------\u001b[0m",
      "\u001b[0;31mNameError\u001b[0m                                 Traceback (most recent call last)",
      "Cell \u001b[0;32mIn[10], line 1\u001b[0m\n\u001b[0;32m----> 1\u001b[0m customer_orders \u001b[38;5;241m=\u001b[39m [element \u001b[38;5;28;01mfor\u001b[39;00m element \u001b[38;5;129;01min\u001b[39;00m products \u001b[38;5;28;01mif\u001b[39;00m \u001b[38;5;28minput\u001b[39m(\u001b[38;5;124mf\u001b[39m\u001b[38;5;124m\"\u001b[39m\u001b[38;5;124mWhat 3 products you want? \u001b[39m\u001b[38;5;132;01m{\u001b[39;00mproducts\u001b[38;5;132;01m}\u001b[39;00m\u001b[38;5;124m :\u001b[39m\u001b[38;5;124m\"\u001b[39m)\u001b[38;5;241m.\u001b[39msplit(\u001b[38;5;124m'\u001b[39m\u001b[38;5;124m,\u001b[39m\u001b[38;5;124m'\u001b[39m)]\n",
      "\u001b[0;31mNameError\u001b[0m: name 'products' is not defined"
     ]
    }
   ],
   "source": [
    "customer_orders = [element for element in products if input(f\"What 3 products you want? {products} :\").split(',')]"
   ]
  },
  {
   "cell_type": "code",
   "execution_count": 122,
   "id": "62d1dd87-da0c-4756-80aa-662ea9b79fbe",
   "metadata": {},
   "outputs": [],
   "source": [
    "def get_customer_orders():\n",
    "    customer_orders = [product for product in products [input(\"What 3 products do you want to order? :\")]]\n",
    "    return customer_orders"
   ]
  },
  {
   "cell_type": "code",
   "execution_count": 124,
   "id": "818604ef-ee0e-4665-8ba0-3b79b4ad07e7",
   "metadata": {},
   "outputs": [
    {
     "name": "stdin",
     "output_type": "stream",
     "text": [
      "What 3 products do you want to order? : hat\n"
     ]
    },
    {
     "ename": "TypeError",
     "evalue": "list indices must be integers or slices, not str",
     "output_type": "error",
     "traceback": [
      "\u001b[0;31m---------------------------------------------------------------------------\u001b[0m",
      "\u001b[0;31mTypeError\u001b[0m                                 Traceback (most recent call last)",
      "Cell \u001b[0;32mIn[124], line 1\u001b[0m\n\u001b[0;32m----> 1\u001b[0m get_customer_orders()\n",
      "Cell \u001b[0;32mIn[122], line 2\u001b[0m, in \u001b[0;36mget_customer_orders\u001b[0;34m()\u001b[0m\n\u001b[1;32m      1\u001b[0m \u001b[38;5;28;01mdef\u001b[39;00m \u001b[38;5;21mget_customer_orders\u001b[39m():\n\u001b[0;32m----> 2\u001b[0m     customer_orders \u001b[38;5;241m=\u001b[39m [product \u001b[38;5;28;01mfor\u001b[39;00m product \u001b[38;5;129;01min\u001b[39;00m products [\u001b[38;5;28minput\u001b[39m(\u001b[38;5;124m\"\u001b[39m\u001b[38;5;124mWhat 3 products do you want to order? :\u001b[39m\u001b[38;5;124m\"\u001b[39m)]]\n\u001b[1;32m      3\u001b[0m     \u001b[38;5;28;01mreturn\u001b[39;00m customer_orders\n",
      "\u001b[0;31mTypeError\u001b[0m: list indices must be integers or slices, not str"
     ]
    }
   ],
   "source": [
    "get_customer_orders()"
   ]
  },
  {
   "cell_type": "code",
   "execution_count": 107,
   "id": "77f25631-0028-4a0f-bc08-a23e84ad843f",
   "metadata": {},
   "outputs": [
    {
     "name": "stdin",
     "output_type": "stream",
     "text": [
      "What 3 products do you want to order? : hat\n"
     ]
    },
    {
     "ename": "TypeError",
     "evalue": "list indices must be integers or slices, not str",
     "output_type": "error",
     "traceback": [
      "\u001b[0;31m---------------------------------------------------------------------------\u001b[0m",
      "\u001b[0;31mTypeError\u001b[0m                                 Traceback (most recent call last)",
      "Cell \u001b[0;32mIn[107], line 1\u001b[0m\n\u001b[0;32m----> 1\u001b[0m Customer_orders \u001b[38;5;241m=\u001b[39m get_customer_orders()\n",
      "Cell \u001b[0;32mIn[105], line 2\u001b[0m, in \u001b[0;36mget_customer_orders\u001b[0;34m()\u001b[0m\n\u001b[1;32m      1\u001b[0m \u001b[38;5;28;01mdef\u001b[39;00m \u001b[38;5;21mget_customer_orders\u001b[39m():\n\u001b[0;32m----> 2\u001b[0m     customer_orders \u001b[38;5;241m=\u001b[39m [product \u001b[38;5;28;01mfor\u001b[39;00m element \u001b[38;5;129;01min\u001b[39;00m products [\u001b[38;5;28minput\u001b[39m(\u001b[38;5;124m\"\u001b[39m\u001b[38;5;124mWhat 3 products do you want to order? :\u001b[39m\u001b[38;5;124m\"\u001b[39m)]]\n\u001b[1;32m      3\u001b[0m     \u001b[38;5;28;01mreturn\u001b[39;00m customer_orders\n",
      "\u001b[0;31mTypeError\u001b[0m: list indices must be integers or slices, not str"
     ]
    }
   ],
   "source": [
    "Customer_orders = get_customer_orders()"
   ]
  },
  {
   "cell_type": "code",
   "execution_count": 21,
   "id": "fdb491d3-1ddf-4286-b68d-ca5d2fb93f00",
   "metadata": {},
   "outputs": [],
   "source": [
    "def update_inventory(customer_orders, inventory):\n",
    "    update_inventory= customer_orders.extend(order)\n",
    "    print(\"The order is:\", customer_orders)\n",
    "    return inventory"
   ]
  },
  {
   "cell_type": "code",
   "execution_count": 23,
   "id": "880aa883-b798-46c2-b8cd-f577fb36ae80",
   "metadata": {},
   "outputs": [
    {
     "data": {
      "text/plain": [
       "<function __main__.initialize_inventory(products)>"
      ]
     },
     "execution_count": 23,
     "metadata": {},
     "output_type": "execute_result"
    }
   ],
   "source": [
    "inventory"
   ]
  },
  {
   "cell_type": "code",
   "execution_count": null,
   "id": "3f1092dc-1214-4099-be1a-fcb70d94b3e9",
   "metadata": {},
   "outputs": [],
   "source": []
  }
 ],
 "metadata": {
  "kernelspec": {
   "display_name": "Python 3 (ipykernel)",
   "language": "python",
   "name": "python3"
  },
  "language_info": {
   "codemirror_mode": {
    "name": "ipython",
    "version": 3
   },
   "file_extension": ".py",
   "mimetype": "text/x-python",
   "name": "python",
   "nbconvert_exporter": "python",
   "pygments_lexer": "ipython3",
   "version": "3.11.7"
  }
 },
 "nbformat": 4,
 "nbformat_minor": 5
}
